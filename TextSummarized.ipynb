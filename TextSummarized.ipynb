{
 "cells": [
  {
   "cell_type": "code",
   "execution_count": 9,
   "id": "50dae54c-8346-4e82-90f6-c24d6ded2f05",
   "metadata": {},
   "outputs": [
    {
     "name": "stdout",
     "output_type": "stream",
     "text": [
      "Natural Language Processing (NLP) is a branch of artificial intelligence (AI) that focuses on the interaction between computers and human language. At its core, NLP involves two major components: natural language understanding (NLU) and natural language generation (NLG).\n"
     ]
    }
   ],
   "source": [
    "import nltk\n",
    "from nltk.corpus import stopwords\n",
    "from nltk.tokenize import word_tokenize, sent_tokenize\n",
    "import string\n",
    "\n",
    "\n",
    "\n",
    "def summarize_paragraph(text, num_sentences=2):\n",
    "    # Tokenize sentences\n",
    "    sentences = sent_tokenize(text)\n",
    "    \n",
    "    # Tokenize words & remove stopwords/punctuation\n",
    "    \n",
    "    stop_words = set(stopwords.words(\"english\"))\n",
    "    words = word_tokenize(text.lower())\n",
    "    words = [w for w in words if w not in stop_words and w not in string.punctuation]\n",
    "    \n",
    "    # Frequency distribution\n",
    "    freq = nltk.FreqDist(words)\n",
    "    \n",
    "    # Score sentences\n",
    "    sentence_scores = {}\n",
    "    for sent in sentences:\n",
    "        for word in word_tokenize(sent.lower()):\n",
    "            if word in freq:\n",
    "                sentence_scores[sent] = sentence_scores.get(sent, 0) + freq[word]\n",
    "    \n",
    "    # Pick top sentences\n",
    "    summarized_sentences = sorted(sentence_scores, key=sentence_scores.get, reverse=True)[:num_sentences]\n",
    "    \n",
    "    return \" \".join(summarized_sentences)\n",
    "\n",
    "\n",
    "# Example usage:\n",
    "text = \"\"\"Natural Language Processing (NLP) is a branch of artificial intelligence (AI) that focuses on the interaction between computers and human language. Its main goal is to enable machines to understand, interpret, and generate human language in a way that is meaningful and useful. NLP combines concepts from computer science, linguistics, and machine learning to bridge the gap between human communication and computer comprehension. By processing natural language, computers can perform tasks such as translation, summarization, and sentiment analysis.\n",
    "\n",
    "At its core, NLP involves two major components: natural language understanding (NLU) and natural language generation (NLG). NLU focuses on enabling computers to comprehend the meaning behind written or spoken language, handling tasks like word sense disambiguation and syntactic parsing. NLG, on the other hand, deals with enabling computers to generate human-like responses or text based on given data or prompts. Together, these components allow machines to process information in a way that feels closer to human communication.\n",
    "\n",
    "One of the key challenges in NLP is the complexity and ambiguity of human language. Unlike programming languages that follow strict rules, natural languages are filled with idioms, slang, multiple meanings, and cultural context. For example, the word \"bank\" can refer to a financial institution or the side of a river, depending on context. Handling such ambiguity requires sophisticated models and algorithms that can analyze patterns, context, and usage. Advances in machine learning, especially deep learning and large language models, have significantly improved NLP systems’ ability to handle these challenges.\n",
    "\n",
    "The applications of NLP are widespread and deeply integrated into modern technology. Some common examples include chatbots, virtual assistants like Siri and Alexa, machine translation tools like Google Translate, and grammar-checking software. In business, NLP is used for customer service automation, analyzing customer feedback, and monitoring social media sentiment. In healthcare, NLP helps extract valuable insights from medical records and research papers. Its versatility makes it a key technology across many industries.\n",
    "\n",
    "In summary, NLP is a powerful field that enables machines to interact with human language more effectively. By combining linguistics, computer science, and AI, it makes communication between humans and computers more natural and efficient. Despite ongoing challenges such as ambiguity, bias, and cultural context, the field continues to advance rapidly. With the rise of large-scale AI models, NLP is becoming increasingly sophisticated, playing a vital role in shaping how people interact with technology in everyday life.\"\"\"\n",
    "\n",
    "print(summarize_paragraph(text, num_sentences=2))\n"
   ]
  },
  {
   "cell_type": "code",
   "execution_count": null,
   "id": "5d58fe2e-1ff7-4724-a4cb-b654f1bd1c56",
   "metadata": {},
   "outputs": [],
   "source": []
  }
 ],
 "metadata": {
  "kernelspec": {
   "display_name": "Python 3 (ipykernel)",
   "language": "python",
   "name": "python3"
  },
  "language_info": {
   "codemirror_mode": {
    "name": "ipython",
    "version": 3
   },
   "file_extension": ".py",
   "mimetype": "text/x-python",
   "name": "python",
   "nbconvert_exporter": "python",
   "pygments_lexer": "ipython3",
   "version": "3.13.5"
  }
 },
 "nbformat": 4,
 "nbformat_minor": 5
}
